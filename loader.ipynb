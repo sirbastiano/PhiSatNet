{
 "cells": [
  {
   "cell_type": "markdown",
   "metadata": {},
   "source": [
    "# Dataloader Example"
   ]
  },
  {
   "cell_type": "markdown",
   "metadata": {},
   "source": [
    "This script demonstrates how to efficiently load and iterate over a satellite Earth observation dataset stored in the Zarr format, using a modular PyTorch DataLoader setup. "
   ]
  },
  {
   "cell_type": "code",
   "execution_count": 1,
   "metadata": {},
   "outputs": [
    {
     "name": "stderr",
     "output_type": "stream",
     "text": [
      "Processing Batches: 100%|██████████| 487/487 [00:25<00:00, 18.93it/s]\n"
     ]
    }
   ],
   "source": [
    "from data_loader import get_zarr_dataloader, NormalizeChannels\n",
    "from tqdm import tqdm\n",
    "\n",
    "# Path to the input Zarr dataset\n",
    "zarr_path = \"burned_area_dataset.zarr\"\n",
    "\n",
    "# Select dataset split: \"trainval\" or \"test\"\n",
    "dataset_set = \"trainval\"\n",
    "\n",
    "# Initialize a PyTorch DataLoader from a Zarr-based dataset\n",
    "dataloader = get_zarr_dataloader(\n",
    "    zarr_path=zarr_path,                     # Path to the Zarr archive\n",
    "    dataset_set=dataset_set,                 # Dataset subset to use\n",
    "    batch_size=16,                           # Number of samples per batch\n",
    "    shuffle=True,                            # Enable shuffling (useful for training)\n",
    "    num_workers=4,                           # Number of parallel workers for loading\n",
    "    transform=NormalizeChannels(min_max=True),  # Normalize input channels to [0, 1]\n",
    "    task_filter=\"segmentation\",              # Only load data for the \"segmentation\" task\n",
    "    metadata_keys=[\"sensor\", \"timestamp\"],   # Include auxiliary metadata fields\n",
    ")\n",
    "\n",
    "# Iterate over the DataLoader to process each batch\n",
    "for idx, batch in enumerate(tqdm(dataloader, desc=\"Processing Batches\")):\n",
    "    # Loop through all task types present in the batch\n",
    "    for task in batch['tasks']:\n",
    "        images = batch[f'{task}_img']       # Input image tensor for the current task\n",
    "        labels = batch[f'{task}_label']     # Corresponding label tensor\n",
    "        # Model inference, loss computation, or further processing can be done here"
   ]
  }
 ],
 "metadata": {
  "kernelspec": {
   "display_name": "pynas",
   "language": "python",
   "name": "python3"
  },
  "language_info": {
   "codemirror_mode": {
    "name": "ipython",
    "version": 3
   },
   "file_extension": ".py",
   "mimetype": "text/x-python",
   "name": "python",
   "nbconvert_exporter": "python",
   "pygments_lexer": "ipython3",
   "version": "3.8.20"
  }
 },
 "nbformat": 4,
 "nbformat_minor": 2
}
